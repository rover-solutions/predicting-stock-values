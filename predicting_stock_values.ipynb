{
 "cells": [
  {
   "attachments": {},
   "cell_type": "markdown",
   "metadata": {},
   "source": [
    "## Importando as bibliotecas necessária"
   ]
  },
  {
   "cell_type": "code",
   "execution_count": 3,
   "metadata": {},
   "outputs": [],
   "source": [
    "import numpy as np\n",
    "import pandas as pd\n",
    "import seaborn as sns\n",
    "import matplotlib.pyplot as plt\n",
    "\n",
    "from statsmodels.tsa.arima.model import ARIMA\n",
    "from sklearn.linear_model import LinearRegression\n",
    "from sklearn.metrics import mean_absolute_error, mean_squared_error, r2_score"
   ]
  },
  {
   "attachments": {},
   "cell_type": "markdown",
   "metadata": {},
   "source": [
    "## Carregando os dados históricos de preços da AAPL"
   ]
  },
  {
   "cell_type": "code",
   "execution_count": 4,
   "metadata": {},
   "outputs": [
    {
     "data": {
      "text/html": [
       "<div>\n",
       "<style scoped>\n",
       "    .dataframe tbody tr th:only-of-type {\n",
       "        vertical-align: middle;\n",
       "    }\n",
       "\n",
       "    .dataframe tbody tr th {\n",
       "        vertical-align: top;\n",
       "    }\n",
       "\n",
       "    .dataframe thead th {\n",
       "        text-align: right;\n",
       "    }\n",
       "</style>\n",
       "<table border=\"1\" class=\"dataframe\">\n",
       "  <thead>\n",
       "    <tr style=\"text-align: right;\">\n",
       "      <th></th>\n",
       "      <th>Open</th>\n",
       "      <th>High</th>\n",
       "      <th>Low</th>\n",
       "      <th>Close</th>\n",
       "      <th>Adj Close</th>\n",
       "      <th>Volume</th>\n",
       "    </tr>\n",
       "    <tr>\n",
       "      <th>Date</th>\n",
       "      <th></th>\n",
       "      <th></th>\n",
       "      <th></th>\n",
       "      <th></th>\n",
       "      <th></th>\n",
       "      <th></th>\n",
       "    </tr>\n",
       "  </thead>\n",
       "  <tbody>\n",
       "    <tr>\n",
       "      <th>2003-01-02</th>\n",
       "      <td>0.256429</td>\n",
       "      <td>0.266429</td>\n",
       "      <td>0.256250</td>\n",
       "      <td>0.264286</td>\n",
       "      <td>0.224939</td>\n",
       "      <td>181428800</td>\n",
       "    </tr>\n",
       "    <tr>\n",
       "      <th>2003-01-03</th>\n",
       "      <td>0.264286</td>\n",
       "      <td>0.266607</td>\n",
       "      <td>0.260536</td>\n",
       "      <td>0.266071</td>\n",
       "      <td>0.226458</td>\n",
       "      <td>147453600</td>\n",
       "    </tr>\n",
       "    <tr>\n",
       "      <th>2003-01-06</th>\n",
       "      <td>0.268393</td>\n",
       "      <td>0.274643</td>\n",
       "      <td>0.265714</td>\n",
       "      <td>0.266071</td>\n",
       "      <td>0.226458</td>\n",
       "      <td>390532800</td>\n",
       "    </tr>\n",
       "    <tr>\n",
       "      <th>2003-01-07</th>\n",
       "      <td>0.264107</td>\n",
       "      <td>0.267857</td>\n",
       "      <td>0.258393</td>\n",
       "      <td>0.265179</td>\n",
       "      <td>0.225699</td>\n",
       "      <td>342344800</td>\n",
       "    </tr>\n",
       "    <tr>\n",
       "      <th>2003-01-08</th>\n",
       "      <td>0.260357</td>\n",
       "      <td>0.262679</td>\n",
       "      <td>0.257857</td>\n",
       "      <td>0.259821</td>\n",
       "      <td>0.221138</td>\n",
       "      <td>229644800</td>\n",
       "    </tr>\n",
       "  </tbody>\n",
       "</table>\n",
       "</div>"
      ],
      "text/plain": [
       "                Open      High       Low     Close  Adj Close     Volume\n",
       "Date                                                                    \n",
       "2003-01-02  0.256429  0.266429  0.256250  0.264286   0.224939  181428800\n",
       "2003-01-03  0.264286  0.266607  0.260536  0.266071   0.226458  147453600\n",
       "2003-01-06  0.268393  0.274643  0.265714  0.266071   0.226458  390532800\n",
       "2003-01-07  0.264107  0.267857  0.258393  0.265179   0.225699  342344800\n",
       "2003-01-08  0.260357  0.262679  0.257857  0.259821   0.221138  229644800"
      ]
     },
     "execution_count": 4,
     "metadata": {},
     "output_type": "execute_result"
    }
   ],
   "source": [
    "df = pd.read_csv('data/AAPL.csv', index_col='Date', parse_dates=True)\n",
    "df.head()"
   ]
  },
  {
   "attachments": {},
   "cell_type": "markdown",
   "metadata": {},
   "source": [
    "## Criando uma coluna de preços de fechamento deslocados um dia para frente"
   ]
  },
  {
   "cell_type": "code",
   "execution_count": 5,
   "metadata": {},
   "outputs": [
    {
     "data": {
      "text/html": [
       "<div>\n",
       "<style scoped>\n",
       "    .dataframe tbody tr th:only-of-type {\n",
       "        vertical-align: middle;\n",
       "    }\n",
       "\n",
       "    .dataframe tbody tr th {\n",
       "        vertical-align: top;\n",
       "    }\n",
       "\n",
       "    .dataframe thead th {\n",
       "        text-align: right;\n",
       "    }\n",
       "</style>\n",
       "<table border=\"1\" class=\"dataframe\">\n",
       "  <thead>\n",
       "    <tr style=\"text-align: right;\">\n",
       "      <th></th>\n",
       "      <th>Open</th>\n",
       "      <th>High</th>\n",
       "      <th>Low</th>\n",
       "      <th>Close</th>\n",
       "      <th>Adj Close</th>\n",
       "      <th>Volume</th>\n",
       "      <th>Close_Shifted</th>\n",
       "    </tr>\n",
       "    <tr>\n",
       "      <th>Date</th>\n",
       "      <th></th>\n",
       "      <th></th>\n",
       "      <th></th>\n",
       "      <th></th>\n",
       "      <th></th>\n",
       "      <th></th>\n",
       "      <th></th>\n",
       "    </tr>\n",
       "  </thead>\n",
       "  <tbody>\n",
       "    <tr>\n",
       "      <th>2003-01-02</th>\n",
       "      <td>0.256429</td>\n",
       "      <td>0.266429</td>\n",
       "      <td>0.256250</td>\n",
       "      <td>0.264286</td>\n",
       "      <td>0.224939</td>\n",
       "      <td>181428800</td>\n",
       "      <td>0.266071</td>\n",
       "    </tr>\n",
       "    <tr>\n",
       "      <th>2003-01-03</th>\n",
       "      <td>0.264286</td>\n",
       "      <td>0.266607</td>\n",
       "      <td>0.260536</td>\n",
       "      <td>0.266071</td>\n",
       "      <td>0.226458</td>\n",
       "      <td>147453600</td>\n",
       "      <td>0.266071</td>\n",
       "    </tr>\n",
       "    <tr>\n",
       "      <th>2003-01-06</th>\n",
       "      <td>0.268393</td>\n",
       "      <td>0.274643</td>\n",
       "      <td>0.265714</td>\n",
       "      <td>0.266071</td>\n",
       "      <td>0.226458</td>\n",
       "      <td>390532800</td>\n",
       "      <td>0.265179</td>\n",
       "    </tr>\n",
       "    <tr>\n",
       "      <th>2003-01-07</th>\n",
       "      <td>0.264107</td>\n",
       "      <td>0.267857</td>\n",
       "      <td>0.258393</td>\n",
       "      <td>0.265179</td>\n",
       "      <td>0.225699</td>\n",
       "      <td>342344800</td>\n",
       "      <td>0.259821</td>\n",
       "    </tr>\n",
       "    <tr>\n",
       "      <th>2003-01-08</th>\n",
       "      <td>0.260357</td>\n",
       "      <td>0.262679</td>\n",
       "      <td>0.257857</td>\n",
       "      <td>0.259821</td>\n",
       "      <td>0.221138</td>\n",
       "      <td>229644800</td>\n",
       "      <td>0.262143</td>\n",
       "    </tr>\n",
       "  </tbody>\n",
       "</table>\n",
       "</div>"
      ],
      "text/plain": [
       "                Open      High       Low     Close  Adj Close     Volume  \\\n",
       "Date                                                                       \n",
       "2003-01-02  0.256429  0.266429  0.256250  0.264286   0.224939  181428800   \n",
       "2003-01-03  0.264286  0.266607  0.260536  0.266071   0.226458  147453600   \n",
       "2003-01-06  0.268393  0.274643  0.265714  0.266071   0.226458  390532800   \n",
       "2003-01-07  0.264107  0.267857  0.258393  0.265179   0.225699  342344800   \n",
       "2003-01-08  0.260357  0.262679  0.257857  0.259821   0.221138  229644800   \n",
       "\n",
       "            Close_Shifted  \n",
       "Date                       \n",
       "2003-01-02       0.266071  \n",
       "2003-01-03       0.266071  \n",
       "2003-01-06       0.265179  \n",
       "2003-01-07       0.259821  \n",
       "2003-01-08       0.262143  "
      ]
     },
     "execution_count": 5,
     "metadata": {},
     "output_type": "execute_result"
    }
   ],
   "source": [
    "df['Close_Shifted'] = df['Close'].shift(-1)\n",
    "df.fillna(0, inplace=True)\n",
    "df.head()"
   ]
  },
  {
   "attachments": {},
   "cell_type": "markdown",
   "metadata": {},
   "source": [
    "## Separando os dados em conjunto de treinamento e teste"
   ]
  },
  {
   "cell_type": "code",
   "execution_count": 6,
   "metadata": {},
   "outputs": [],
   "source": [
    "train_size = int(len(df) * 0.8)\n",
    "train_data, test_data = df[:train_size], df[train_size:]"
   ]
  },
  {
   "attachments": {},
   "cell_type": "markdown",
   "metadata": {},
   "source": [
    "## Modelo de Regressão Linear"
   ]
  },
  {
   "attachments": {},
   "cell_type": "markdown",
   "metadata": {},
   "source": [
    "### Criando as variáveis de entrada e saída"
   ]
  },
  {
   "cell_type": "code",
   "execution_count": 7,
   "metadata": {},
   "outputs": [],
   "source": [
    "X_train, y_train = train_data[['Close']], train_data['Close_Shifted']\n",
    "X_test, y_test = test_data[['Close']], test_data['Close_Shifted']"
   ]
  },
  {
   "attachments": {},
   "cell_type": "markdown",
   "metadata": {},
   "source": [
    "### Treinando o modelo de regressão linear"
   ]
  },
  {
   "cell_type": "code",
   "execution_count": 8,
   "metadata": {},
   "outputs": [],
   "source": [
    "reg_model = LinearRegression().fit(X_train, y_train)"
   ]
  },
  {
   "attachments": {},
   "cell_type": "markdown",
   "metadata": {},
   "source": [
    "### Fazendo previsões no conjunto de teste"
   ]
  },
  {
   "cell_type": "code",
   "execution_count": 9,
   "metadata": {},
   "outputs": [],
   "source": [
    "y_pred = reg_model.predict(X_test)"
   ]
  },
  {
   "attachments": {},
   "cell_type": "markdown",
   "metadata": {},
   "source": [
    "### Avaliando as métricas de desempenho do modelo"
   ]
  },
  {
   "cell_type": "code",
   "execution_count": 10,
   "metadata": {},
   "outputs": [
    {
     "name": "stdout",
     "output_type": "stream",
     "text": [
      "Métricas do Modelo de Regressão Linear:\n",
      "MAE: 1.9320762133592926\n",
      "MSE: 31.33040333355253\n",
      "R²: 0.9811016981730226\n"
     ]
    }
   ],
   "source": [
    "print('Métricas do Modelo de Regressão Linear:')\n",
    "print('MAE:', mean_absolute_error(y_test, y_pred))\n",
    "print('MSE:', mean_squared_error(y_test, y_pred))\n",
    "print('R²:', r2_score(y_test, y_pred))"
   ]
  },
  {
   "attachments": {},
   "cell_type": "markdown",
   "metadata": {},
   "source": [
    "## Modelo de Séries Temporais (ARIMA)"
   ]
  },
  {
   "attachments": {},
   "cell_type": "markdown",
   "metadata": {},
   "source": [
    "### Criando as variáveis de entrada e saída"
   ]
  },
  {
   "cell_type": "code",
   "execution_count": 31,
   "metadata": {},
   "outputs": [],
   "source": [
    "train_ts = train_data['Close']\n",
    "test_ts = test_data['Close']"
   ]
  },
  {
   "attachments": {},
   "cell_type": "markdown",
   "metadata": {},
   "source": [
    "### Treinando o modelo ARIMA"
   ]
  },
  {
   "cell_type": "code",
   "execution_count": 32,
   "metadata": {},
   "outputs": [
    {
     "name": "stderr",
     "output_type": "stream",
     "text": [
      "/Users/carlospo/opt/anaconda3/envs/chatbot-tensorflow/lib/python3.6/site-packages/statsmodels/tsa/base/tsa_model.py:583: ValueWarning: A date index has been provided, but it has no associated frequency information and so will be ignored when e.g. forecasting.\n",
      "  ' ignored when e.g. forecasting.', ValueWarning)\n",
      "/Users/carlospo/opt/anaconda3/envs/chatbot-tensorflow/lib/python3.6/site-packages/statsmodels/tsa/base/tsa_model.py:583: ValueWarning: A date index has been provided, but it has no associated frequency information and so will be ignored when e.g. forecasting.\n",
      "  ' ignored when e.g. forecasting.', ValueWarning)\n",
      "/Users/carlospo/opt/anaconda3/envs/chatbot-tensorflow/lib/python3.6/site-packages/statsmodels/tsa/base/tsa_model.py:583: ValueWarning: A date index has been provided, but it has no associated frequency information and so will be ignored when e.g. forecasting.\n",
      "  ' ignored when e.g. forecasting.', ValueWarning)\n",
      "/Users/carlospo/opt/anaconda3/envs/chatbot-tensorflow/lib/python3.6/site-packages/statsmodels/tsa/statespace/sarimax.py:966: UserWarning: Non-stationary starting autoregressive parameters found. Using zeros as starting parameters.\n",
      "  warn('Non-stationary starting autoregressive parameters'\n"
     ]
    }
   ],
   "source": [
    "arima_model = ARIMA(train_ts, order=(1, 0, 0)).fit()"
   ]
  },
  {
   "attachments": {},
   "cell_type": "markdown",
   "metadata": {},
   "source": [
    "### Fazendo previsões no conjunto de teste"
   ]
  },
  {
   "cell_type": "code",
   "execution_count": 33,
   "metadata": {},
   "outputs": [
    {
     "name": "stderr",
     "output_type": "stream",
     "text": [
      "/Users/carlospo/opt/anaconda3/envs/chatbot-tensorflow/lib/python3.6/site-packages/statsmodels/tsa/base/tsa_model.py:379: ValueWarning: No supported index is available. Prediction results will be given with an integer index beginning at `start`.\n",
      "  ValueWarning)\n"
     ]
    }
   ],
   "source": [
    "ts_pred = arima_model.forecast(len(test_ts))"
   ]
  },
  {
   "attachments": {},
   "cell_type": "markdown",
   "metadata": {},
   "source": [
    "### Avaliando as métricas de desempenho do modelo"
   ]
  },
  {
   "cell_type": "code",
   "execution_count": 34,
   "metadata": {},
   "outputs": [
    {
     "name": "stdout",
     "output_type": "stream",
     "text": [
      "\n",
      "Métricas do Modelo de Séries Temporais (ARIMA):\n",
      "MAE: 71.28566517163931\n",
      "MSE: 6798.338154870248\n",
      "R²: -3.122203322270132\n"
     ]
    }
   ],
   "source": [
    "print('\\nMétricas do Modelo de Séries Temporais (ARIMA):')\n",
    "print('MAE:', mean_absolute_error(test_ts, ts_pred))\n",
    "print('MSE:', mean_squared_error(test_ts, ts_pred))\n",
    "print('R²:', r2_score(test_ts, ts_pred))"
   ]
  },
  {
   "attachments": {},
   "cell_type": "markdown",
   "metadata": {},
   "source": [
    "## Criando um novo DataFrame com as previsões dos modelos"
   ]
  },
  {
   "cell_type": "code",
   "execution_count": 44,
   "metadata": {},
   "outputs": [
    {
     "data": {
      "text/html": [
       "<div>\n",
       "<style scoped>\n",
       "    .dataframe tbody tr th:only-of-type {\n",
       "        vertical-align: middle;\n",
       "    }\n",
       "\n",
       "    .dataframe tbody tr th {\n",
       "        vertical-align: top;\n",
       "    }\n",
       "\n",
       "    .dataframe thead th {\n",
       "        text-align: right;\n",
       "    }\n",
       "</style>\n",
       "<table border=\"1\" class=\"dataframe\">\n",
       "  <thead>\n",
       "    <tr style=\"text-align: right;\">\n",
       "      <th></th>\n",
       "      <th>real</th>\n",
       "      <th>regression</th>\n",
       "      <th>arima</th>\n",
       "    </tr>\n",
       "    <tr>\n",
       "      <th>Date</th>\n",
       "      <th></th>\n",
       "      <th></th>\n",
       "      <th></th>\n",
       "    </tr>\n",
       "  </thead>\n",
       "  <tbody>\n",
       "    <tr>\n",
       "      <th>2019-03-25</th>\n",
       "      <td>47.185001</td>\n",
       "      <td>47.201840</td>\n",
       "      <td>47.758720</td>\n",
       "    </tr>\n",
       "    <tr>\n",
       "      <th>2019-03-26</th>\n",
       "      <td>46.697498</td>\n",
       "      <td>46.714255</td>\n",
       "      <td>47.754939</td>\n",
       "    </tr>\n",
       "    <tr>\n",
       "      <th>2019-03-27</th>\n",
       "      <td>47.117500</td>\n",
       "      <td>47.134328</td>\n",
       "      <td>47.751158</td>\n",
       "    </tr>\n",
       "    <tr>\n",
       "      <th>2019-03-28</th>\n",
       "      <td>47.180000</td>\n",
       "      <td>47.196838</td>\n",
       "      <td>47.747378</td>\n",
       "    </tr>\n",
       "    <tr>\n",
       "      <th>2019-03-29</th>\n",
       "      <td>47.487499</td>\n",
       "      <td>47.504389</td>\n",
       "      <td>47.743599</td>\n",
       "    </tr>\n",
       "  </tbody>\n",
       "</table>\n",
       "</div>"
      ],
      "text/plain": [
       "                 real  regression      arima\n",
       "Date                                        \n",
       "2019-03-25  47.185001   47.201840  47.758720\n",
       "2019-03-26  46.697498   46.714255  47.754939\n",
       "2019-03-27  47.117500   47.134328  47.751158\n",
       "2019-03-28  47.180000   47.196838  47.747378\n",
       "2019-03-29  47.487499   47.504389  47.743599"
      ]
     },
     "execution_count": 44,
     "metadata": {},
     "output_type": "execute_result"
    }
   ],
   "source": [
    "df_predict = pd.DataFrame(\n",
    "    dict(\n",
    "        real=test_data['Close'],\n",
    "        regression=y_pred,\n",
    "        arima=ts_pred.to_numpy()\n",
    "    )\n",
    ")\n",
    "df_predict.head()"
   ]
  },
  {
   "attachments": {},
   "cell_type": "markdown",
   "metadata": {},
   "source": [
    "## Gerando o gráfico com Seaborn"
   ]
  },
  {
   "cell_type": "code",
   "execution_count": 45,
   "metadata": {},
   "outputs": [
    {
     "data": {
      "image/png": "[encoded data removed]",
      "text/plain": [
       "<Figure size 864x576 with 1 Axes>"
      ]
     },
     "metadata": {},
     "output_type": "display_data"
    }
   ],
   "source": [
    "sns.set_style('whitegrid')\n",
    "plt.figure(figsize=(12, 8))\n",
    "sns.lineplot(data=df_predict, linewidth=2.5)\n",
    "plt.title('AAPL Stock Prices and Predictions', fontsize=20)\n",
    "plt.xlabel('Date', fontsize=16)\n",
    "plt.ylabel('Price ($)', fontsize=16)\n",
    "plt.legend(['Real', 'Regression', 'ARIMA'], fontsize=12)\n",
    "plt.show()"
   ]
  }
 ],
 "metadata": {
  "kernelspec": {
   "display_name": "chatbot-tensorflow",
   "language": "python",
   "name": "python3"
  },
  "language_info": {
   "codemirror_mode": {
    "name": "ipython",
    "version": 3
   },
   "file_extension": ".py",
   "mimetype": "text/x-python",
   "name": "python",
   "nbconvert_exporter": "python",
   "pygments_lexer": "ipython3",
   "version": "3.6.15"
  },
  "orig_nbformat": 4
 },
 "nbformat": 4,
 "nbformat_minor": 2
}
